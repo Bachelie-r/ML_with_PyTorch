{
  "nbformat": 4,
  "nbformat_minor": 0,
  "metadata": {
    "colab": {
      "provenance": [],
      "authorship_tag": "ABX9TyMoNYA0slFovjkE7GWB9nCT",
      "include_colab_link": true
    },
    "kernelspec": {
      "name": "python3",
      "display_name": "Python 3"
    },
    "language_info": {
      "name": "python"
    }
  },
  "cells": [
    {
      "cell_type": "markdown",
      "metadata": {
        "id": "view-in-github",
        "colab_type": "text"
      },
      "source": [
        "<a href=\"https://colab.research.google.com/github/Bachelie-r/ML_with_Pytorch/blob/main/PyTorch_13.ipynb\" target=\"_parent\"><img src=\"https://colab.research.google.com/assets/colab-badge.svg\" alt=\"Open In Colab\"/></a>"
      ]
    },
    {
      "cell_type": "code",
      "source": [
        "import torch\n",
        "\n",
        "def compute_z(a, b, c):\n",
        "      r1 = torch.sub(a, b)\n",
        "      r2 = torch.mul(r1, 2)\n",
        "      z = torch.add(r2, c)\n",
        "      return z\n",
        "\n",
        "print('스칼라 입력:', compute_z(torch.tensor(1), torch.tensor(2), torch.tensor(3)))\n",
        "print('랭크 1 입력:', compute_z(torch.tensor([1]), torch.tensor([2]), torch.tensor([3])))\n",
        "print('랭크 2 입력:', compute_z(torch.tensor([[1]]), torch.tensor([[2]]), torch.tensor([[3]])))"
      ],
      "metadata": {
        "colab": {
          "base_uri": "https://localhost:8080/"
        },
        "id": "me1L3fbzx0nZ",
        "outputId": "33b92c7c-cf36-451b-ffc5-c9fc8b17bd5a"
      },
      "execution_count": null,
      "outputs": [
        {
          "output_type": "stream",
          "name": "stdout",
          "text": [
            "스칼라 입력: tensor(1)\n",
            "랭크 1 입력: tensor([1])\n",
            "랭크 2 입력: tensor([[1]])\n"
          ]
        }
      ]
    },
    {
      "cell_type": "code",
      "source": [
        "a = torch.tensor(3.14, requires_grad=True)\n",
        "b = torch.tensor([1.0, 2.0, 3.0], requires_grad=True)\n",
        "print(a)\n",
        "print(b)"
      ],
      "metadata": {
        "id": "QCrnGYVMx0Y7",
        "colab": {
          "base_uri": "https://localhost:8080/"
        },
        "outputId": "408f33bf-88af-4b60-b16d-b537f5c2956b"
      },
      "execution_count": null,
      "outputs": [
        {
          "output_type": "stream",
          "name": "stdout",
          "text": [
            "tensor(3.1400, requires_grad=True)\n",
            "tensor([1., 2., 3.], requires_grad=True)\n"
          ]
        }
      ]
    },
    {
      "cell_type": "markdown",
      "source": [
        "텐서 객체의 grad 기본값은 False 객체에 requires_grad() 메서드롤 호출해 True로 변경가능"
      ],
      "metadata": {
        "id": "ytYhVY0CcNZu"
      }
    },
    {
      "cell_type": "code",
      "source": [
        "w = torch.tensor([1.0, 2.0, 3.0])\n",
        "\n",
        "print(w.requires_grad)"
      ],
      "metadata": {
        "colab": {
          "base_uri": "https://localhost:8080/"
        },
        "id": "gdtC5RT64gmW",
        "outputId": "a15184ca-0d9a-4107-f5b3-7b6d31936b7c"
      },
      "execution_count": null,
      "outputs": [
        {
          "output_type": "stream",
          "name": "stdout",
          "text": [
            "False\n"
          ]
        }
      ]
    },
    {
      "cell_type": "code",
      "source": [
        "w.requires_grad_()\n",
        "\n",
        "print(w.requires_grad)"
      ],
      "metadata": {
        "colab": {
          "base_uri": "https://localhost:8080/"
        },
        "id": "_a42QRIM4gip",
        "outputId": "f87d98dd-be85-4871-cfc8-dab4315a3e42"
      },
      "execution_count": null,
      "outputs": [
        {
          "output_type": "stream",
          "name": "stdout",
          "text": [
            "True\n"
          ]
        }
      ]
    },
    {
      "cell_type": "markdown",
      "source": [
        "### 텐서 init"
      ],
      "metadata": {
        "id": "EhwJbPT-smfu"
      }
    },
    {
      "cell_type": "code",
      "source": [
        "import torch.nn as nn\n",
        "\n",
        "\n",
        "torch.manual_seed(1)\n",
        "w = torch.empty(2, 3)\n",
        "nn.init.xavier_normal_(w)\n",
        "print(w)"
      ],
      "metadata": {
        "colab": {
          "base_uri": "https://localhost:8080/"
        },
        "id": "P7J6n-tL4gfP",
        "outputId": "49c0b19a-fb01-41d9-f410-74a2aeb25efb"
      },
      "execution_count": null,
      "outputs": [
        {
          "output_type": "stream",
          "name": "stdout",
          "text": [
            "tensor([[ 0.4183,  0.1688,  0.0390],\n",
            "        [ 0.3930, -0.2858, -0.1051]])\n"
          ]
        }
      ]
    },
    {
      "cell_type": "code",
      "source": [
        "class MyModule(nn.Module):\n",
        "      def __init__(self):\n",
        "          super().__init__()\n",
        "          self.w1 = torch.empty(2, 3, requires_grad=True)\n",
        "          nn.init.xavier_normal_(self.w1)\n",
        "          self.w2 = torch.empty(1, 2, requires_grad=True)\n",
        "          nn.init.xavier_normal_(self.w2)"
      ],
      "metadata": {
        "id": "Xlp1C5gisvit"
      },
      "execution_count": null,
      "outputs": []
    },
    {
      "cell_type": "markdown",
      "source": [
        "# 13.4 자동 미분으로 그레이디언트 계산"
      ],
      "metadata": {
        "id": "VI8foga09_Rl"
      }
    },
    {
      "cell_type": "code",
      "source": [
        "w = torch.tensor(1.0, requires_grad=True)\n",
        "b = torch.tensor(0.5, requires_grad=True)\n",
        "\n",
        "x = torch.tensor([1.4])\n",
        "y = torch.tensor([2.1])\n",
        "\n",
        "\n",
        "z = torch.add(torch.mul(w, x), b)\n",
        "z.requires_grad_()\n",
        "\n",
        "loss = (y-z).pow(2).sum()\n",
        "loss.backward()\n",
        "\n",
        "print('dL/dw : ', w.grad)\n",
        "print('dL/db : ', b.grad)\n",
        "z.grad"
      ],
      "metadata": {
        "colab": {
          "base_uri": "https://localhost:8080/"
        },
        "id": "_U0z_VEO997H",
        "outputId": "35221b85-26d9-400f-8da9-96bcb56ff7bc"
      },
      "execution_count": null,
      "outputs": [
        {
          "output_type": "stream",
          "name": "stdout",
          "text": [
            "dL/dw :  tensor(-0.5600)\n",
            "dL/db :  tensor(-0.4000)\n"
          ]
        },
        {
          "output_type": "stream",
          "name": "stderr",
          "text": [
            "<ipython-input-13-0bd8cc484153>:16: UserWarning: The .grad attribute of a Tensor that is not a leaf Tensor is being accessed. Its .grad attribute won't be populated during autograd.backward(). If you indeed want the .grad field to be populated for a non-leaf Tensor, use .retain_grad() on the non-leaf Tensor. If you access the non-leaf Tensor by mistake, make sure you access the leaf Tensor instead. See github.com/pytorch/pytorch/pull/30531 for more informations. (Triggered internally at /pytorch/build/aten/src/ATen/core/TensorBody.h:489.)\n",
            "  z.grad\n"
          ]
        }
      ]
    },
    {
      "cell_type": "markdown",
      "source": [
        "# 13.5 nn.Module"
      ],
      "metadata": {
        "id": "Nht9x2dlzzdT"
      }
    },
    {
      "cell_type": "markdown",
      "source": [
        "nn.Sequential 클래스"
      ],
      "metadata": {
        "id": "g40Wj-VzC6-m"
      }
    },
    {
      "cell_type": "code",
      "source": [
        "model = nn.Sequential(\n",
        "      nn.Linear(4, 16),\n",
        "      nn.ReLU(),\n",
        "      nn.Linear(16, 1),\n",
        "      nn.Sigmoid()\n",
        "                  )\n",
        "model #nn.Sequential 클래스"
      ],
      "metadata": {
        "colab": {
          "base_uri": "https://localhost:8080/"
        },
        "id": "poDqB6-f993a",
        "outputId": "555ea500-ecae-43cc-ab2c-1ecff7cacf56"
      },
      "execution_count": null,
      "outputs": [
        {
          "output_type": "execute_result",
          "data": {
            "text/plain": [
              "Sequential(\n",
              "  (0): Linear(in_features=4, out_features=16, bias=True)\n",
              "  (1): ReLU()\n",
              "  (2): Linear(in_features=16, out_features=1, bias=True)\n",
              "  (3): Sigmoid()\n",
              ")"
            ]
          },
          "metadata": {},
          "execution_count": 14
        }
      ]
    },
    {
      "cell_type": "code",
      "source": [
        "model[0]"
      ],
      "metadata": {
        "colab": {
          "base_uri": "https://localhost:8080/"
        },
        "id": "KOkNRJFd99nK",
        "outputId": "e1e72e88-b100-4673-85c5-d3b7641537dd"
      },
      "execution_count": null,
      "outputs": [
        {
          "output_type": "execute_result",
          "data": {
            "text/plain": [
              "Linear(in_features=4, out_features=16, bias=True)"
            ]
          },
          "metadata": {},
          "execution_count": 6
        }
      ]
    },
    {
      "cell_type": "markdown",
      "source": [
        "nn.Module 클래스"
      ],
      "metadata": {
        "id": "0X1yLMU4C-iH"
      }
    },
    {
      "cell_type": "code",
      "source": [
        "#학습 데이터 #비선형 xor 분류\n",
        "import numpy as np\n",
        "import matplotlib.pyplot as plt\n",
        "%matplotlib inline\n",
        "\n",
        "np.random.seed(1)\n",
        "torch.manual_seed(1)\n",
        "x = np.random.uniform(low=-1, high=1, size=(200, 2))\n",
        "y = np.ones(len(x))\n",
        "y[x[:, 0] * x[:, 1]<0] = 0 #두 특성의 곱이 음수면 y=0 #NumPy나 PyTorch의 배열(텐서)의 불리언인덱싱\n",
        "\n",
        "n_train = 100 #100는 트레인, 100개는 검증용\n",
        "x_train = torch.tensor(x[:n_train, :], dtype=torch.float32)\n",
        "y_train = torch.tensor(y[:n_train], dtype=torch.float32)\n",
        "x_valid = torch.tensor(x[n_train:, :], dtype=torch.float32)\n",
        "y_valid = torch.tensor(y[n_train:], dtype=torch.float32)\n",
        "\n",
        "#시각화\n",
        "fig = plt.figure(figsize=(6, 6))\n",
        "plt.plot(x[y==0, 0],\n",
        "         x[y==0, 1], 'o', alpha=0.75, markersize=10)\n",
        "plt.plot(x[y==1, 0],\n",
        "         x[y==1, 1], '<', alpha=0.75, markersize=10)\n",
        "plt.xlabel(r'$x_1$', size=15)\n",
        "plt.ylabel(r'$x_2$', size=15)\n",
        "\n",
        "plt.show()"
      ],
      "metadata": {
        "colab": {
          "base_uri": "https://localhost:8080/",
          "height": 548
        },
        "id": "dL9v9mNUmUKK",
        "outputId": "0fab5d2c-d9be-4149-ed45-f3110aa112ca"
      },
      "execution_count": null,
      "outputs": [
        {
          "output_type": "display_data",
          "data": {
            "text/plain": [
              "<Figure size 600x600 with 1 Axes>"
            ],
            "image/png": "[encoded data removed]"
          },
          "metadata": {}
        }
      ]
    },
    {
      "cell_type": "code",
      "source": [
        "#배치 크기 2인 데이터 로더 만들기\n",
        "from torch.utils.data import DataLoader, TensorDataset\n",
        "\n",
        "\n",
        "train_ds = TensorDataset(x_train, y_train)\n",
        "batch_size = 2\n",
        "torch.manual_seed(1)\n",
        "train_dl = DataLoader(train_ds, batch_size, shuffle=True)"
      ],
      "metadata": {
        "id": "Um9ai4AOss_e"
      },
      "execution_count": null,
      "outputs": []
    },
    {
      "cell_type": "code",
      "source": [
        "class MyModule(nn.Module): #사용자 정의 상속클래스\n",
        "      def __init__(self):\n",
        "         super().__init__()\n",
        "         l1 = nn.Linear(2, 4)\n",
        "         a1 = nn.ReLU()\n",
        "         l2 = nn.Linear(4, 4)\n",
        "         a2 = nn.ReLU()\n",
        "         l3 = nn.Linear(4, 1)\n",
        "         a3 = nn.Sigmoid()\n",
        "         l = [l1, a1, l2, a2, l3, a3]\n",
        "         self.module_list = nn.ModuleList(l)\n",
        "\n",
        "      def forward(self, x): #직접 어떤 연산이 일어날지 명시적으로 작성해야 함\n",
        "         for f in self.module_list:\n",
        "             x = f(x)\n",
        "         return x\n",
        "\n",
        "\n",
        "model = MyModule()\n",
        "model"
      ],
      "metadata": {
        "colab": {
          "base_uri": "https://localhost:8080/"
        },
        "id": "36WFfiycGUHA",
        "outputId": "4d05c293-1746-49cd-f8ad-8528f0ebfa39"
      },
      "execution_count": null,
      "outputs": [
        {
          "output_type": "execute_result",
          "data": {
            "text/plain": [
              "MyModule(\n",
              "  (module_list): ModuleList(\n",
              "    (0): Linear(in_features=2, out_features=4, bias=True)\n",
              "    (1): ReLU()\n",
              "    (2): Linear(in_features=4, out_features=4, bias=True)\n",
              "    (3): ReLU()\n",
              "    (4): Linear(in_features=4, out_features=1, bias=True)\n",
              "    (5): Sigmoid()\n",
              "  )\n",
              ")"
            ]
          },
          "metadata": {},
          "execution_count": 25
        }
      ]
    },
    {
      "cell_type": "code",
      "source": [
        "for name, param in model.named_parameters():\n",
        "    print(f\"Layer: {name}, Shape: {param.shape}\")\n",
        "    print(param.data)  # 실제 값\n",
        "    print()"
      ],
      "metadata": {
        "colab": {
          "base_uri": "https://localhost:8080/"
        },
        "id": "G5AcgU-0cWK6",
        "outputId": "a9176151-ff18-4b7e-c709-8c0c4e94b6f9"
      },
      "execution_count": null,
      "outputs": [
        {
          "output_type": "stream",
          "name": "stdout",
          "text": [
            "Layer: module_list.0.weight, Shape: torch.Size([4, 2])\n",
            "tensor([[ 0.4317,  0.4762],\n",
            "        [-0.2395,  0.6909],\n",
            "        [-0.0817, -0.0243],\n",
            "        [-0.6674, -0.4551]])\n",
            "\n",
            "Layer: module_list.0.bias, Shape: torch.Size([4])\n",
            "tensor([-0.4131, -0.3024,  0.5027, -0.2311])\n",
            "\n",
            "Layer: module_list.2.weight, Shape: torch.Size([4, 4])\n",
            "tensor([[-0.3736,  0.1924,  0.1601,  0.3238],\n",
            "        [-0.2587,  0.1084, -0.1820, -0.1123],\n",
            "        [-0.3985, -0.2279, -0.1531,  0.2138],\n",
            "        [ 0.0913,  0.1235,  0.4991,  0.4873]])\n",
            "\n",
            "Layer: module_list.2.bias, Shape: torch.Size([4])\n",
            "tensor([ 0.3410,  0.0159, -0.3459,  0.3908])\n",
            "\n",
            "Layer: module_list.4.weight, Shape: torch.Size([1, 4])\n",
            "tensor([[-0.1250, -0.0404, -0.4307, -0.0988]])\n",
            "\n",
            "Layer: module_list.4.bias, Shape: torch.Size([1])\n",
            "tensor([-0.3225])\n",
            "\n"
          ]
        }
      ]
    },
    {
      "cell_type": "code",
      "source": [
        "model.module_list"
      ],
      "metadata": {
        "colab": {
          "base_uri": "https://localhost:8080/"
        },
        "id": "PoadZz63W9sy",
        "outputId": "38edc936-98bd-4e59-c1a7-2632b22623e0"
      },
      "execution_count": null,
      "outputs": [
        {
          "output_type": "execute_result",
          "data": {
            "text/plain": [
              "ModuleList(\n",
              "  (0): Linear(in_features=2, out_features=4, bias=True)\n",
              "  (1): ReLU()\n",
              "  (2): Linear(in_features=4, out_features=4, bias=True)\n",
              "  (3): ReLU()\n",
              "  (4): Linear(in_features=4, out_features=1, bias=True)\n",
              "  (5): Sigmoid()\n",
              ")"
            ]
          },
          "metadata": {},
          "execution_count": 18
        }
      ]
    },
    {
      "cell_type": "code",
      "source": [
        "#비용함수와 옵티마이저\n",
        "loss_fn = nn.BCELoss()\n",
        "optimizer = torch.optim.SGD(model.parameters(), lr=0.015)"
      ],
      "metadata": {
        "id": "_t_M1QdImUN4"
      },
      "execution_count": null,
      "outputs": []
    },
    {
      "cell_type": "code",
      "source": [
        "#학습 함수 정의\n",
        "torch.manual_seed(1)\n",
        "\n",
        "num_epochs = 200 #학습 반복(에포크단위) 횟수\n",
        "\n",
        "def train(model, num_epochs, train_dl, x_valid, y_valid): #학습함수 생성\n",
        "    #시각화부분\n",
        "    loss_hist_train = [0] * num_epochs\n",
        "    accuracy_hist_train = [0] * num_epochs\n",
        "    loss_hist_valid = [0] * num_epochs\n",
        "    accuracy_hist_valid = [0] * num_epochs\n",
        "\n",
        "    for epoch in range(num_epochs):\n",
        "        for x_batch, y_batch in train_dl:\n",
        "            pred = model(x_batch)[:, 0]\n",
        "            loss = loss_fn(pred, y_batch)\n",
        "            loss.backward()\n",
        "            optimizer.step()\n",
        "            optimizer.zero_grad()\n",
        "            loss_hist_train[epoch] += loss.item() #시각화부분\n",
        "            is_correct = ((pred>=0.5).float() == y_batch).float()\n",
        "            accuracy_hist_train[epoch] += is_correct.mean() #시각화부분\n",
        "\n",
        "        loss_hist_train[epoch] /= n_train/batch_size #시각화부분\n",
        "        accuracy_hist_train[epoch] /= n_train/batch_size #시각화부분\n",
        "\n",
        "        pred = model(x_valid)[:, 0]\n",
        "        loss = loss_fn(pred, y_valid)\n",
        "        loss_hist_valid[epoch] = loss.item()\n",
        "        is_correct = ((pred>=0.5).float() == y_valid).float()\n",
        "        accuracy_hist_valid[epoch] += is_correct.mean()\n",
        "    return loss_hist_train, loss_hist_valid, accuracy_hist_train, accuracy_hist_valid\n"
      ],
      "metadata": {
        "id": "CW_-rGacu9xW"
      },
      "execution_count": null,
      "outputs": []
    },
    {
      "cell_type": "code",
      "source": [
        "history = train(model, num_epochs, train_dl, x_valid, y_valid)"
      ],
      "metadata": {
        "id": "7E2PeofTHnWW"
      },
      "execution_count": null,
      "outputs": []
    },
    {
      "cell_type": "code",
      "source": [
        "#학습과정 시각화\n",
        "fig = plt.figure(figsize=(16, 4))\n",
        "ax = fig.add_subplot(1, 2, 1)\n",
        "plt.plot(history[0], lw=4)\n",
        "plt.plot(history[1], lw=4)\n",
        "plt.legend(['Train loss', 'Validation loss'], fontsize=15)\n",
        "ax.set_xlabel('Epochs', size=15)\n",
        "\n",
        "ax = fig.add_subplot(1, 2, 2)\n",
        "plt.plot(history[2], lw=4)\n",
        "plt.plot(history[3], lw=4)\n",
        "plt.legend(['Train acc.', 'Validation acc.'], fontsize=15)\n",
        "ax.set_xlabel('Epochs', size=15)"
      ],
      "metadata": {
        "colab": {
          "base_uri": "https://localhost:8080/",
          "height": 373
        },
        "id": "w6yU_FGhyuvt",
        "outputId": "9595bd40-e84e-4ba6-e79e-f2cf95d47e51"
      },
      "execution_count": null,
      "outputs": [
        {
          "output_type": "execute_result",
          "data": {
            "text/plain": [
              "Text(0.5, 0, 'Epochs')"
            ]
          },
          "metadata": {},
          "execution_count": 31
        },
        {
          "output_type": "display_data",
          "data": {
            "text/plain": [
              "<Figure size 1600x400 with 2 Axes>"
            ],
            "image/png": "[encoded data removed]"
          },
          "metadata": {}
        }
      ]
    },
    {
      "cell_type": "markdown",
      "source": [
        "파이토치에서 사용자 정의 층 만들기\n"
      ],
      "metadata": {
        "id": "30Bp0WbGKDwM"
      }
    },
    {
      "cell_type": "markdown",
      "source": [
        "파이토치에서 제공하지 않는 층을 새로 정의해야 하는 경우"
      ],
      "metadata": {
        "id": "G_jw11scKFgU"
      }
    },
    {
      "cell_type": "code",
      "source": [
        "class NoisyLinear(nn.Module): #nn.Module을 상속받아 층을 정의함\n",
        "      def __init__(self, input_size, output_size, noise_stddev=0.1):\n",
        "         super().__init__()\n",
        "         w = torch.Tensor(input_size, output_size)\n",
        "         self.w = nn.Parameter(w)  # nn.Parameter는 모듈 파라미터 텐서입니다(학습대상).\n",
        "         nn.init.xavier_uniform_(self.w)\n",
        "         b = torch.Tensor(output_size).fill_(0)\n",
        "         self.b = nn.Parameter(b)\n",
        "         self.noise_stddev = noise_stddev\n",
        "\n",
        "      def forward(self, x, training=False):\n",
        "          if training: #훈련이라면 오차를 더한다.\n",
        "             noise = torch.normal(0.0, self.noise_stddev, x.shape)\n",
        "             x_new = torch.add(x, noise)\n",
        "          else:\n",
        "             x_new = x\n",
        "          return torch.add(torch.mm(x_new, self.w), self.b)\n"
      ],
      "metadata": {
        "id": "1CtKJjoNzQK4"
      },
      "execution_count": null,
      "outputs": []
    },
    {
      "cell_type": "code",
      "source": [
        "## 테스트:\n",
        "\n",
        "torch.manual_seed(1)\n",
        "\n",
        "noisy_layer = NoisyLinear(4, 2)\n",
        "\n",
        "x = torch.zeros((1, 4))\n",
        "print(noisy_layer(x, training=True)) #forward() 메서드가 실행되는 구조\n",
        "\n",
        "print(noisy_layer(x, training=True))\n",
        "\n",
        "print(noisy_layer(x, training=False))"
      ],
      "metadata": {
        "id": "ourQchR3piT1",
        "colab": {
          "base_uri": "https://localhost:8080/"
        },
        "outputId": "a8e8514b-a77a-4f88-fb8a-2bf274269b4a"
      },
      "execution_count": null,
      "outputs": [
        {
          "output_type": "stream",
          "name": "stdout",
          "text": [
            "tensor([[ 0.1154, -0.0598]], grad_fn=<AddBackward0>)\n",
            "tensor([[ 0.0432, -0.0375]], grad_fn=<AddBackward0>)\n",
            "tensor([[0., 0.]], grad_fn=<AddBackward0>)\n"
          ]
        }
      ]
    },
    {
      "cell_type": "code",
      "source": [
        "class MyNoisyModule(nn.Module):\n",
        "      def __init__(self):\n",
        "          super().__init__()\n",
        "          self.l1 = NoisyLinear(2, 4, 0.07) #nn.Module의 속성(attribute) 중에서 nn.Module 타입인 것들은 \"층(layer)\" 또는 \"서브모듈\"로 자동 인식\n",
        "          self.a1 = nn.ReLU()\n",
        "          self.l2 = nn.Linear(4, 4)\n",
        "          self.a2 = nn.ReLU()\n",
        "          self.l3 = nn.Linear(4, 1)\n",
        "          self.a3 = nn.Sigmoid()\n",
        "\n",
        "      def forward(self, x, training=False):\n",
        "          x = self.l1(x, training)\n",
        "          x = self.a1(x)\n",
        "          x = self.l2(x)\n",
        "          x = self.a2(x)\n",
        "          x = self.l3(x)\n",
        "          x = self.a3(x)\n",
        "          return x\n",
        "\n",
        "torch.manual_seed(1)\n",
        "model = MyNoisyModule()\n",
        "model`"
      ],
      "metadata": {
        "id": "c4Pwp7qqpiO8",
        "colab": {
          "base_uri": "https://localhost:8080/"
        },
        "outputId": "d549027c-a89d-4a6b-e08e-80eee89d0530"
      },
      "execution_count": null,
      "outputs": [
        {
          "output_type": "execute_result",
          "data": {
            "text/plain": [
              "MyNoisyModule(\n",
              "  (l1): NoisyLinear()\n",
              "  (a1): ReLU()\n",
              "  (l2): Linear(in_features=4, out_features=4, bias=True)\n",
              "  (a2): ReLU()\n",
              "  (l3): Linear(in_features=4, out_features=1, bias=True)\n",
              "  (a3): Sigmoid()\n",
              ")"
            ]
          },
          "metadata": {},
          "execution_count": 35
        }
      ]
    },
    {
      "cell_type": "code",
      "source": [],
      "metadata": {
        "id": "PiqGRcnUpiNA"
      },
      "execution_count": null,
      "outputs": []
    },
    {
      "cell_type": "code",
      "source": [],
      "metadata": {
        "id": "SbdGykV8piI8"
      },
      "execution_count": null,
      "outputs": []
    }
  ]
}